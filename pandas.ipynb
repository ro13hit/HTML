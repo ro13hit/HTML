import pandas
d={"Roll":[1,2,3,4,5],'Name':['Lalit','Pradeep','Mukesh','Manoj','Rahul'],
   'Age':[27,29,24,26,25],'Salary':[10000,15000,30000,25000,56000]}
df=pandas.DataFrame(d)
print(df)
print(type(df))
print(type(df['Roll']))
print(df['Name'])
s=pandas.Series([1,2,3,4,5])
print(s)
import pandas as pd  
   a = pd.Series(Data, index = Index)
Data =[1, 3, 4, 5, 6, 2, 9]   
s = pd.Series(Data)     
  
Index =['a', 'b', 'c', 'd', 'e', 'f', 'g']  
  
 
si = pd.Series(Data, Index)
print(s)
a = pd.DataFrame(Data)

import pandas as pd
S = pd.Series([11, 28, 72, 3, 5, 8],index=[12,34,56,78,90,100])
print(type(S))
print(S)
print(S[12])
S=S+5
print(S)
print(S>10)
